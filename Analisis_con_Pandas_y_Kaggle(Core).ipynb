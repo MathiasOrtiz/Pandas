{
 "cells": [
  {
   "attachments": {},
   "cell_type": "markdown",
   "metadata": {},
   "source": [
    "# Analisis con Pandas y Kaggle (Core)"
   ]
  },
  {
   "attachments": {},
   "cell_type": "markdown",
   "metadata": {},
   "source": [
    "El objetivo de esta actividad es poner en práctica todos los conocimientos adquiridos sobre Pandas a través del análisis completo de un dataset. Los estudiantes deben aplicar técnicas de carga, exploración, limpieza, transformación, y agregación de datos para extraer insights valiosos. La actividad no incluye visualización de datos, enfocándose únicamente en el análisis y manipulación de datos con Pandas."
   ]
  },
  {
   "attachments": {},
   "cell_type": "markdown",
   "metadata": {},
   "source": [
    "Instrucciones\n",
    "\n",
    "1. Preparación del Entorno\n",
    "- Asegúrate de tener instalado Pandas en tu entorno de trabajo.\n",
    "- Descarga el archivo dataset.csv desde Kaggle. Elige un dataset que te interese y que no incluya visualización de datos. Algunas sugerencias pueden ser datasets relacionados con ventas, compras, productos, etc.\n",
    "2. Cargar los Datos\n",
    "- Carga el archivo CSV en un DataFrame de Pandas.\n",
    "- Muestra las primeras 10 filas del DataFrame para confirmar que los datos se han cargado correctamente.\n",
    "3. Exploración Inicial de los Datos\n",
    "- Muestra las últimas 5 filas del DataFrame.\n",
    "- Utiliza el método info() para obtener información general sobre el DataFrame, incluyendo el número de entradas, nombres de las columnas, tipos de datos y memoria utilizada.\n",
    "- Genera estadísticas descriptivas del DataFrame utilizando el método describe().\n",
    "4. Limpieza de Datos\n",
    "- Identifica y maneja los datos faltantes utilizando técnicas apropiadas (relleno con valores estadísticos, interpolación, eliminación, etc.).\n",
    "- Corrige los tipos de datos si es necesario (por ejemplo, convertir cadenas a fechas).\n",
    "- Elimina duplicados si los hay.\n",
    "5. Transformación de Datos\n",
    "- Crea nuevas columnas basadas en operaciones con las columnas existentes (por ejemplo, calcular ingresos a partir de ventas y precios).\n",
    "- Normaliza o estandariza columnas si es necesario.\n",
    "- Clasifica los datos en categorías relevantes.\n",
    "6. Análisis de Datos\n",
    "- Realiza agrupaciones de datos utilizando groupby para obtener insights específicos (por ejemplo, ventas por producto, ventas por región, etc.).\n",
    "- Aplica funciones de agregación como sum, mean, count, min, max, std, y var.\n",
    "- Utiliza el método apply para realizar operaciones más complejas y personalizadas.\n",
    "7. Documentación\n",
    "- Documenta claramente cada paso del análisis, explicando qué se hizo y por qué se hizo.\n",
    "- Asegúrate de que el código sea legible y esté bien comentado."
   ]
  },
  {
   "cell_type": "code",
   "execution_count": 1,
   "metadata": {},
   "outputs": [
    {
     "name": "stdout",
     "output_type": "stream",
     "text": [
      "   Rank                       Name Platform    Year         Genre Publisher  \\\n",
      "0     1                 Wii Sports      Wii  2006.0        Sports  Nintendo   \n",
      "1     2          Super Mario Bros.      NES  1985.0      Platform  Nintendo   \n",
      "2     3             Mario Kart Wii      Wii  2008.0        Racing  Nintendo   \n",
      "3     4          Wii Sports Resort      Wii  2009.0        Sports  Nintendo   \n",
      "4     5   Pokemon Red/Pokemon Blue       GB  1996.0  Role-Playing  Nintendo   \n",
      "5     6                     Tetris       GB  1989.0        Puzzle  Nintendo   \n",
      "6     7      New Super Mario Bros.       DS  2006.0      Platform  Nintendo   \n",
      "7     8                   Wii Play      Wii  2006.0          Misc  Nintendo   \n",
      "8     9  New Super Mario Bros. Wii      Wii  2009.0      Platform  Nintendo   \n",
      "9    10                  Duck Hunt      NES  1984.0       Shooter  Nintendo   \n",
      "\n",
      "   NA_Sales  EU_Sales  JP_Sales  Other_Sales  Global_Sales  \n",
      "0     41.49     29.02      3.77         8.46         82.74  \n",
      "1     29.08      3.58      6.81         0.77         40.24  \n",
      "2     15.85     12.88      3.79         3.31         35.82  \n",
      "3     15.75     11.01      3.28         2.96         33.00  \n",
      "4     11.27      8.89     10.22         1.00         31.37  \n",
      "5     23.20      2.26      4.22         0.58         30.26  \n",
      "6     11.38      9.23      6.50         2.90         30.01  \n",
      "7     14.03      9.20      2.93         2.85         29.02  \n",
      "8     14.59      7.06      4.70         2.26         28.62  \n",
      "9     26.93      0.63      0.28         0.47         28.31  \n"
     ]
    }
   ],
   "source": [
    "import pandas as pd\n",
    "import numpy as np\n",
    "\n",
    "df = pd.read_csv('/Users/mathiorti/Desktop/Me/Cursos/Data Analisis and Machine Learning/vgsales.csv')\n",
    "print(df.head(10))"
   ]
  },
  {
   "cell_type": "code",
   "execution_count": 2,
   "metadata": {},
   "outputs": [
    {
     "name": "stdout",
     "output_type": "stream",
     "text": [
      "        Rank                                              Name Platform  \\\n",
      "16593  16596                Woody Woodpecker in Crazy Castle 5      GBA   \n",
      "16594  16597                     Men in Black II: Alien Escape       GC   \n",
      "16595  16598  SCORE International Baja 1000: The Official Game      PS2   \n",
      "16596  16599                                        Know How 2       DS   \n",
      "16597  16600                                  Spirits & Spells      GBA   \n",
      "\n",
      "         Year     Genre   Publisher  NA_Sales  EU_Sales  JP_Sales  \\\n",
      "16593  2002.0  Platform       Kemco      0.01      0.00       0.0   \n",
      "16594  2003.0   Shooter  Infogrames      0.01      0.00       0.0   \n",
      "16595  2008.0    Racing  Activision      0.00      0.00       0.0   \n",
      "16596  2010.0    Puzzle    7G//AMES      0.00      0.01       0.0   \n",
      "16597  2003.0  Platform     Wanadoo      0.01      0.00       0.0   \n",
      "\n",
      "       Other_Sales  Global_Sales  \n",
      "16593          0.0          0.01  \n",
      "16594          0.0          0.01  \n",
      "16595          0.0          0.01  \n",
      "16596          0.0          0.01  \n",
      "16597          0.0          0.01  \n"
     ]
    }
   ],
   "source": [
    "#Mostras las últimas 5 filas\n",
    "tail_df = df.tail()\n",
    "print(tail_df)\n"
   ]
  },
  {
   "cell_type": "code",
   "execution_count": 7,
   "metadata": {},
   "outputs": [
    {
     "name": "stdout",
     "output_type": "stream",
     "text": [
      "<class 'pandas.core.frame.DataFrame'>\n",
      "RangeIndex: 16598 entries, 0 to 16597\n",
      "Data columns (total 11 columns):\n",
      " #   Column        Non-Null Count  Dtype  \n",
      "---  ------        --------------  -----  \n",
      " 0   Rank          16598 non-null  int64  \n",
      " 1   Name          16598 non-null  object \n",
      " 2   Platform      16598 non-null  object \n",
      " 3   Year          16327 non-null  float64\n",
      " 4   Genre         16598 non-null  object \n",
      " 5   Publisher     16540 non-null  object \n",
      " 6   NA_Sales      16598 non-null  float64\n",
      " 7   EU_Sales      16598 non-null  float64\n",
      " 8   JP_Sales      16598 non-null  float64\n",
      " 9   Other_Sales   16598 non-null  float64\n",
      " 10  Global_Sales  16598 non-null  float64\n",
      "dtypes: float64(6), int64(1), object(4)\n",
      "memory usage: 1.4+ MB\n",
      "               Rank          Year      NA_Sales      EU_Sales      JP_Sales  \\\n",
      "count  16598.000000  16327.000000  16598.000000  16598.000000  16598.000000   \n",
      "mean    8300.605254   2006.406443      0.264667      0.146652      0.077782   \n",
      "std     4791.853933      5.828981      0.816683      0.505351      0.309291   \n",
      "min        1.000000   1980.000000      0.000000      0.000000      0.000000   \n",
      "25%     4151.250000   2003.000000      0.000000      0.000000      0.000000   \n",
      "50%     8300.500000   2007.000000      0.080000      0.020000      0.000000   \n",
      "75%    12449.750000   2010.000000      0.240000      0.110000      0.040000   \n",
      "max    16600.000000   2020.000000     41.490000     29.020000     10.220000   \n",
      "\n",
      "        Other_Sales  Global_Sales  \n",
      "count  16598.000000  16598.000000  \n",
      "mean       0.048063      0.537441  \n",
      "std        0.188588      1.555028  \n",
      "min        0.000000      0.010000  \n",
      "25%        0.000000      0.060000  \n",
      "50%        0.010000      0.170000  \n",
      "75%        0.040000      0.470000  \n",
      "max       10.570000     82.740000  \n"
     ]
    }
   ],
   "source": [
    "#Info y estadísticas descriptivas\n",
    "info_df = df.info()\n",
    "describe_df = df.describe()\n",
    "\n",
    "print(describe_df)"
   ]
  },
  {
   "cell_type": "code",
   "execution_count": 8,
   "metadata": {},
   "outputs": [
    {
     "name": "stdout",
     "output_type": "stream",
     "text": [
      "Rank              0\n",
      "Name              0\n",
      "Platform          0\n",
      "Year            271\n",
      "Genre             0\n",
      "Publisher        58\n",
      "NA_Sales          0\n",
      "EU_Sales          0\n",
      "JP_Sales          0\n",
      "Other_Sales       0\n",
      "Global_Sales      0\n",
      "dtype: int64\n"
     ]
    }
   ],
   "source": [
    "#Maneja los datos faltantes\n",
    "valores_nulos = df.isnull().sum()\n",
    "print(valores_nulos)"
   ]
  },
  {
   "cell_type": "code",
   "execution_count": 14,
   "metadata": {},
   "outputs": [
    {
     "name": "stdout",
     "output_type": "stream",
     "text": [
      "Rank             0\n",
      "Name             0\n",
      "Platform         0\n",
      "Year             0\n",
      "Genre            0\n",
      "Publisher       58\n",
      "NA_Sales         0\n",
      "EU_Sales         0\n",
      "JP_Sales         0\n",
      "Other_Sales      0\n",
      "Global_Sales     0\n",
      "dtype: int64\n"
     ]
    }
   ],
   "source": [
    "#Quiere decir que hay 271 valores nulos en años y 58 en publisher\n",
    "#Podemos usar la media para para completar los años\n",
    "df['Year'] = df['Year'].fillna(df['Year'].mean())\n",
    "valores_actualizados1 = df.isnull().sum()\n",
    "print(valores_actualizados1)"
   ]
  },
  {
   "cell_type": "code",
   "execution_count": 15,
   "metadata": {},
   "outputs": [
    {
     "name": "stdout",
     "output_type": "stream",
     "text": [
      "Rank            0\n",
      "Name            0\n",
      "Platform        0\n",
      "Year            0\n",
      "Genre           0\n",
      "Publisher       0\n",
      "NA_Sales        0\n",
      "EU_Sales        0\n",
      "JP_Sales        0\n",
      "Other_Sales     0\n",
      "Global_Sales    0\n",
      "dtype: int64\n"
     ]
    }
   ],
   "source": [
    "#Para publisher eliminaremos las filas con valores nulos\n",
    "df = df.dropna()\n",
    "valores_actualizados2 = df.isnull().sum()\n",
    "print(valores_actualizados2)\n"
   ]
  },
  {
   "cell_type": "code",
   "execution_count": 16,
   "metadata": {},
   "outputs": [
    {
     "name": "stdout",
     "output_type": "stream",
     "text": [
      "Rank              int64\n",
      "Name             object\n",
      "Platform         object\n",
      "Year              int64\n",
      "Genre            object\n",
      "Publisher        object\n",
      "NA_Sales        float64\n",
      "EU_Sales        float64\n",
      "JP_Sales        float64\n",
      "Other_Sales     float64\n",
      "Global_Sales    float64\n",
      "dtype: object\n"
     ]
    }
   ],
   "source": [
    "#Puedo poner year como entero\n",
    "df['Year'] = df['Year'].astype(int)\n",
    "print(df.dtypes)\n"
   ]
  },
  {
   "cell_type": "code",
   "execution_count": 18,
   "metadata": {},
   "outputs": [
    {
     "name": "stdout",
     "output_type": "stream",
     "text": [
      "0\n"
     ]
    }
   ],
   "source": [
    "#Viendo si hay duplicados\n",
    "duplicados = df.duplicated().sum()\n",
    "print(duplicados)"
   ]
  },
  {
   "cell_type": "code",
   "execution_count": 19,
   "metadata": {},
   "outputs": [
    {
     "name": "stdout",
     "output_type": "stream",
     "text": [
      "   Rank                      Name Platform  Year         Genre Publisher  \\\n",
      "0     1                Wii Sports      Wii  2006        Sports  Nintendo   \n",
      "1     2         Super Mario Bros.      NES  1985      Platform  Nintendo   \n",
      "2     3            Mario Kart Wii      Wii  2008        Racing  Nintendo   \n",
      "3     4         Wii Sports Resort      Wii  2009        Sports  Nintendo   \n",
      "4     5  Pokemon Red/Pokemon Blue       GB  1996  Role-Playing  Nintendo   \n",
      "\n",
      "   NA_Sales  EU_Sales  JP_Sales  Other_Sales  Global_Sales  Total sales  \n",
      "0     41.49     29.02      3.77         8.46         82.74        82.74  \n",
      "1     29.08      3.58      6.81         0.77         40.24        40.24  \n",
      "2     15.85     12.88      3.79         3.31         35.82        35.83  \n",
      "3     15.75     11.01      3.28         2.96         33.00        33.00  \n",
      "4     11.27      8.89     10.22         1.00         31.37        31.38  \n"
     ]
    }
   ],
   "source": [
    "#Ahora puedo agregar una columna de las ventas totales\n",
    "df['Total sales'] = df[['NA_Sales', 'EU_Sales', 'JP_Sales', 'Other_Sales']].sum(axis = 1) #Con axis = 1 sumo las columnas\n",
    "print(df.head())"
   ]
  },
  {
   "cell_type": "code",
   "execution_count": 20,
   "metadata": {},
   "outputs": [
    {
     "name": "stdout",
     "output_type": "stream",
     "text": [
      "   Rank                      Name Platform  Year         Genre Publisher  \\\n",
      "0     1                Wii Sports      Wii  2006        Sports  Nintendo   \n",
      "1     2         Super Mario Bros.      NES  1985      Platform  Nintendo   \n",
      "2     3            Mario Kart Wii      Wii  2008        Racing  Nintendo   \n",
      "3     4         Wii Sports Resort      Wii  2009        Sports  Nintendo   \n",
      "4     5  Pokemon Red/Pokemon Blue       GB  1996  Role-Playing  Nintendo   \n",
      "\n",
      "   NA_Sales  EU_Sales  JP_Sales  Other_Sales  Global_Sales  Total sales  \\\n",
      "0     41.49     29.02      3.77         8.46         82.74        82.74   \n",
      "1     29.08      3.58      6.81         0.77         40.24        40.24   \n",
      "2     15.85     12.88      3.79         3.31         35.82        35.83   \n",
      "3     15.75     11.01      3.28         2.96         33.00        33.00   \n",
      "4     11.27      8.89     10.22         1.00         31.37        31.38   \n",
      "\n",
      "   Important_sales  \n",
      "0            70.51  \n",
      "1            32.66  \n",
      "2            28.73  \n",
      "3            26.76  \n",
      "4            20.16  \n"
     ]
    }
   ],
   "source": [
    "#Clasificando datos en categorías relevantes\n",
    "#NA y EU son los más importantes,\n",
    "df['Important_sales'] = df[['NA_Sales', 'EU_Sales']].sum(axis = 1)\n",
    "print(df.head())"
   ]
  },
  {
   "cell_type": "code",
   "execution_count": 22,
   "metadata": {},
   "outputs": [
    {
     "name": "stdout",
     "output_type": "stream",
     "text": [
      "Genre\n",
      "Action          1749.30\n",
      "Adventure        238.55\n",
      "Fighting         445.73\n",
      "Misc             801.54\n",
      "Platform         830.54\n",
      "Puzzle           244.41\n",
      "Racing           731.76\n",
      "Role-Playing     927.20\n",
      "Shooter         1036.80\n",
      "Simulation       391.67\n",
      "Sports          1328.96\n",
      "Strategy         174.57\n",
      "Name: Total sales, dtype: float64\n"
     ]
    }
   ],
   "source": [
    "#Realiza agrupaciones de datos utilizando groupby para obtener insights específicos (por ejemplo, ventas por producto, ventas por región, etc.).\n",
    "#Calcularemos cuantas ventas hay por género, por año, por publisher, plataforma \n",
    "ventas_por_genre = df.groupby('Genre')['Total sales'].sum()\n",
    "print(ventas_por_genre)"
   ]
  },
  {
   "cell_type": "code",
   "execution_count": 23,
   "metadata": {},
   "outputs": [
    {
     "name": "stdout",
     "output_type": "stream",
     "text": [
      "Year\n",
      "1980     11.38\n",
      "1981     35.68\n",
      "1982     28.88\n",
      "1983     16.80\n",
      "1984     50.35\n",
      "1985     53.95\n",
      "1986     37.08\n",
      "1987     21.70\n",
      "1988     47.21\n",
      "1989     73.45\n",
      "1990     49.37\n",
      "1991     32.23\n",
      "1992     76.14\n",
      "1993     45.99\n",
      "1994     79.22\n",
      "1995     88.11\n",
      "1996    199.15\n",
      "1997    201.07\n",
      "1998    256.33\n",
      "1999    251.12\n",
      "2000    201.63\n",
      "2001    331.49\n",
      "2002    394.97\n",
      "2003    357.61\n",
      "2004    413.61\n",
      "2005    457.97\n",
      "2006    614.03\n",
      "2007    609.23\n",
      "2008    678.49\n",
      "2009    667.10\n",
      "2010    600.20\n",
      "2011    515.74\n",
      "2012    363.25\n",
      "2013    367.98\n",
      "2014    337.08\n",
      "2015    264.26\n",
      "2016     70.84\n",
      "2017      0.05\n",
      "2020      0.29\n",
      "Name: Total sales, dtype: float64\n"
     ]
    }
   ],
   "source": [
    "ventas_por_año = df.groupby('Year')['Total sales'].sum()\n",
    "print(ventas_por_año)"
   ]
  },
  {
   "cell_type": "code",
   "execution_count": 25,
   "metadata": {},
   "outputs": [
    {
     "name": "stdout",
     "output_type": "stream",
     "text": [
      "Publisher\n",
      "10TACLE Studios                  0.11\n",
      "1C Company                       0.10\n",
      "20th Century Fox Video Games     1.93\n",
      "2D Boy                           0.04\n",
      "3DO                             10.15\n",
      "                                ...  \n",
      "id Software                      0.02\n",
      "imageepoch Inc.                  0.04\n",
      "inXile Entertainment             0.09\n",
      "mixi, Inc                        0.86\n",
      "responDESIGN                     0.14\n",
      "Name: Total sales, Length: 578, dtype: float64\n"
     ]
    }
   ],
   "source": [
    "ventas_por_publisher = df.groupby('Publisher')['Total sales'].sum()\n",
    "print(ventas_por_publisher)"
   ]
  },
  {
   "cell_type": "code",
   "execution_count": 26,
   "metadata": {},
   "outputs": [
    {
     "name": "stdout",
     "output_type": "stream",
     "text": [
      "Platform\n",
      "2600      96.98\n",
      "3DO        0.10\n",
      "3DS      247.34\n",
      "DC        15.95\n",
      "DS       821.17\n",
      "GB       255.46\n",
      "GBA      309.68\n",
      "GC       198.93\n",
      "GEN       28.35\n",
      "GG         0.04\n",
      "N64      218.68\n",
      "NES      251.05\n",
      "NG         1.44\n",
      "PC       257.63\n",
      "PCFX       0.03\n",
      "PS       729.25\n",
      "PS2     1252.56\n",
      "PS3      957.34\n",
      "PS4      278.16\n",
      "PSP      296.04\n",
      "PSV       61.91\n",
      "SAT       33.59\n",
      "SCD        1.86\n",
      "SNES     200.04\n",
      "TG16       0.16\n",
      "WS         1.42\n",
      "Wii      925.70\n",
      "WiiU      81.79\n",
      "X360     979.54\n",
      "XB       257.74\n",
      "XOne     141.10\n",
      "Name: Total sales, dtype: float64\n"
     ]
    }
   ],
   "source": [
    "ventas_por_plataforma = df.groupby('Platform')['Total sales'].sum()\n",
    "print(ventas_por_plataforma)"
   ]
  },
  {
   "cell_type": "code",
   "execution_count": 31,
   "metadata": {},
   "outputs": [
    {
     "name": "stdout",
     "output_type": "stream",
     "text": [
      "Platform\n",
      "2600     7.81\n",
      "3DO      0.06\n",
      "3DS     14.35\n",
      "DC       2.41\n",
      "DS      30.01\n",
      "GB      31.38\n",
      "GBA     15.84\n",
      "GC       7.06\n",
      "GEN      6.02\n",
      "GG       0.04\n",
      "N64     11.90\n",
      "NES     40.24\n",
      "NG       0.25\n",
      "PC       8.11\n",
      "PCFX     0.03\n",
      "PS      10.95\n",
      "PS2     20.81\n",
      "PS3     21.39\n",
      "PS4     14.24\n",
      "PSP      7.72\n",
      "PSV      2.26\n",
      "SAT      1.93\n",
      "SCD      1.50\n",
      "SNES    20.62\n",
      "TG16     0.14\n",
      "WS       0.51\n",
      "Wii     82.74\n",
      "WiiU     6.96\n",
      "X360    21.82\n",
      "XB       8.48\n",
      "XOne     7.29\n",
      "Name: Total sales, dtype: float64\n"
     ]
    }
   ],
   "source": [
    "#Hallando la maxima y minima venta de cada plataforma\n",
    "ventas_max_por_plataforma = df.groupby('Platform')['Total sales'].max()\n",
    "print(ventas_max_por_plataforma)"
   ]
  },
  {
   "cell_type": "code",
   "execution_count": 30,
   "metadata": {},
   "outputs": [
    {
     "name": "stdout",
     "output_type": "stream",
     "text": [
      "Platform\n",
      "2600    0.07\n",
      "3DO     0.02\n",
      "3DS     0.01\n",
      "DC      0.02\n",
      "DS      0.01\n",
      "GB      0.06\n",
      "GBA     0.01\n",
      "GC      0.01\n",
      "GEN     0.03\n",
      "GG      0.04\n",
      "N64     0.01\n",
      "NES     0.06\n",
      "NG      0.02\n",
      "PC      0.01\n",
      "PCFX    0.03\n",
      "PS      0.01\n",
      "PS2     0.00\n",
      "PS3     0.01\n",
      "PS4     0.01\n",
      "PSP     0.01\n",
      "PSV     0.01\n",
      "SAT     0.02\n",
      "SCD     0.04\n",
      "SNES    0.01\n",
      "TG16    0.02\n",
      "WS      0.03\n",
      "Wii     0.01\n",
      "WiiU    0.01\n",
      "X360    0.01\n",
      "XB      0.01\n",
      "XOne    0.01\n",
      "Name: Total sales, dtype: float64\n"
     ]
    }
   ],
   "source": [
    "ventas_min_por_plataforma = df.groupby('Platform')['Total sales'].min()\n",
    "print(ventas_min_por_plataforma)"
   ]
  },
  {
   "cell_type": "code",
   "execution_count": 32,
   "metadata": {},
   "outputs": [
    {
     "name": "stdout",
     "output_type": "stream",
     "text": [
      "Genre\n",
      "Action          1.157602\n",
      "Adventure       0.514130\n",
      "Fighting        0.953149\n",
      "Misc            1.324656\n",
      "Platform        2.588106\n",
      "Puzzle          1.562962\n",
      "Racing          1.663480\n",
      "Role-Playing    1.708885\n",
      "Shooter         1.818748\n",
      "Simulation      1.197690\n",
      "Sports          2.091008\n",
      "Strategy        0.522095\n",
      "Name: Total sales, dtype: float64\n"
     ]
    }
   ],
   "source": [
    "#Desviación estándar y varianza de las ventas por genero\n",
    "desviacion_estandar_genero = df.groupby('Genre')['Total sales'].std()\n",
    "print(desviacion_estandar_genero)"
   ]
  },
  {
   "cell_type": "code",
   "execution_count": 33,
   "metadata": {},
   "outputs": [
    {
     "name": "stdout",
     "output_type": "stream",
     "text": [
      "Genre\n",
      "Action          1.340043\n",
      "Adventure       0.264329\n",
      "Fighting        0.908493\n",
      "Misc            1.754713\n",
      "Platform        6.698293\n",
      "Puzzle          2.442851\n",
      "Racing          2.767165\n",
      "Role-Playing    2.920287\n",
      "Shooter         3.307843\n",
      "Simulation      1.434462\n",
      "Sports          4.372314\n",
      "Strategy        0.272583\n",
      "Name: Total sales, dtype: float64\n"
     ]
    }
   ],
   "source": [
    "varianza_genero = df.groupby('Genre')['Total sales'].var()\n",
    "print(varianza_genero)"
   ]
  },
  {
   "cell_type": "code",
   "execution_count": 34,
   "metadata": {},
   "outputs": [
    {
     "name": "stdout",
     "output_type": "stream",
     "text": [
      "Genre\n",
      "Action          0.528649\n",
      "Adventure       0.186076\n",
      "Fighting        0.526868\n",
      "Misc            0.468189\n",
      "Platform        0.939525\n",
      "Puzzle          0.420671\n",
      "Racing          0.586346\n",
      "Role-Playing    0.623957\n",
      "Shooter         0.792661\n",
      "Simulation      0.453847\n",
      "Sports          0.567204\n",
      "Strategy        0.257478\n",
      "Name: Total sales, dtype: float64\n"
     ]
    }
   ],
   "source": [
    "promedio_por_genre = df.groupby('Genre')['Total sales'].mean()\n",
    "print(promedio_por_genre)"
   ]
  },
  {
   "cell_type": "code",
   "execution_count": 35,
   "metadata": {},
   "outputs": [
    {
     "name": "stdout",
     "output_type": "stream",
     "text": [
      "Genre\n",
      "Action          21.38\n",
      "Adventure       11.17\n",
      "Fighting        13.03\n",
      "Misc            29.00\n",
      "Platform        40.23\n",
      "Puzzle          30.25\n",
      "Racing          35.83\n",
      "Role-Playing    31.37\n",
      "Shooter         28.30\n",
      "Simulation      24.74\n",
      "Sports          82.73\n",
      "Strategy         5.44\n",
      "Name: Total sales, dtype: float64\n"
     ]
    }
   ],
   "source": [
    "#Calculando el rango max - min de ventas por genre\n",
    "rango_ventas_por_genero = df.groupby('Genre')['Total sales'].apply(lambda x: x.max() - x.min())\n",
    "print(rango_ventas_por_genero)"
   ]
  },
  {
   "attachments": {},
   "cell_type": "markdown",
   "metadata": {},
   "source": [
    "#"
   ]
  }
 ],
 "metadata": {
  "kernelspec": {
   "display_name": "Python 3",
   "language": "python",
   "name": "python3"
  },
  "language_info": {
   "codemirror_mode": {
    "name": "ipython",
    "version": 3
   },
   "file_extension": ".py",
   "mimetype": "text/x-python",
   "name": "python",
   "nbconvert_exporter": "python",
   "pygments_lexer": "ipython3",
   "version": "3.12.6"
  },
  "orig_nbformat": 4
 },
 "nbformat": 4,
 "nbformat_minor": 2
}
